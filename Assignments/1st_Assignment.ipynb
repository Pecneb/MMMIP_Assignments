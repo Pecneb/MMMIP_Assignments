{
 "cells": [
  {
   "cell_type": "markdown",
   "metadata": {},
   "source": [
    "# Implement Discrete Cosine Transform (DCT)"
   ]
  },
  {
   "cell_type": "markdown",
   "metadata": {},
   "source": [
    "# DCT D matrix\n",
    "\n",
    "Is a matrix that transforms the input image/signal into vector $x$. Matrix D is orthogonal."
   ]
  },
  {
   "cell_type": "code",
   "execution_count": 5,
   "metadata": {},
   "outputs": [
    {
     "data": {
      "text/html": [
       "<div>\n",
       "<style scoped>\n",
       "    .dataframe tbody tr th:only-of-type {\n",
       "        vertical-align: middle;\n",
       "    }\n",
       "\n",
       "    .dataframe tbody tr th {\n",
       "        vertical-align: top;\n",
       "    }\n",
       "\n",
       "    .dataframe thead th {\n",
       "        text-align: right;\n",
       "    }\n",
       "</style>\n",
       "<table border=\"1\" class=\"dataframe\">\n",
       "  <thead>\n",
       "    <tr style=\"text-align: right;\">\n",
       "      <th></th>\n",
       "      <th>0</th>\n",
       "      <th>1</th>\n",
       "      <th>2</th>\n",
       "      <th>3</th>\n",
       "      <th>4</th>\n",
       "      <th>5</th>\n",
       "      <th>6</th>\n",
       "      <th>7</th>\n",
       "    </tr>\n",
       "  </thead>\n",
       "  <tbody>\n",
       "    <tr>\n",
       "      <th>0</th>\n",
       "      <td>0.353553</td>\n",
       "      <td>0.353553</td>\n",
       "      <td>0.353553</td>\n",
       "      <td>0.353553</td>\n",
       "      <td>0.353553</td>\n",
       "      <td>0.353553</td>\n",
       "      <td>0.353553</td>\n",
       "      <td>0.353553</td>\n",
       "    </tr>\n",
       "    <tr>\n",
       "      <th>1</th>\n",
       "      <td>0.490393</td>\n",
       "      <td>0.415735</td>\n",
       "      <td>0.277785</td>\n",
       "      <td>0.097545</td>\n",
       "      <td>-0.097545</td>\n",
       "      <td>-0.277785</td>\n",
       "      <td>-0.415735</td>\n",
       "      <td>-0.490393</td>\n",
       "    </tr>\n",
       "    <tr>\n",
       "      <th>2</th>\n",
       "      <td>0.461940</td>\n",
       "      <td>0.191342</td>\n",
       "      <td>-0.191342</td>\n",
       "      <td>-0.461940</td>\n",
       "      <td>-0.461940</td>\n",
       "      <td>-0.191342</td>\n",
       "      <td>0.191342</td>\n",
       "      <td>0.461940</td>\n",
       "    </tr>\n",
       "    <tr>\n",
       "      <th>3</th>\n",
       "      <td>0.415735</td>\n",
       "      <td>-0.097545</td>\n",
       "      <td>-0.490393</td>\n",
       "      <td>-0.277785</td>\n",
       "      <td>0.277785</td>\n",
       "      <td>0.490393</td>\n",
       "      <td>0.097545</td>\n",
       "      <td>-0.415735</td>\n",
       "    </tr>\n",
       "    <tr>\n",
       "      <th>4</th>\n",
       "      <td>0.353553</td>\n",
       "      <td>-0.353553</td>\n",
       "      <td>-0.353553</td>\n",
       "      <td>0.353553</td>\n",
       "      <td>0.353553</td>\n",
       "      <td>-0.353553</td>\n",
       "      <td>-0.353553</td>\n",
       "      <td>0.353553</td>\n",
       "    </tr>\n",
       "    <tr>\n",
       "      <th>5</th>\n",
       "      <td>0.277785</td>\n",
       "      <td>-0.490393</td>\n",
       "      <td>0.097545</td>\n",
       "      <td>0.415735</td>\n",
       "      <td>-0.415735</td>\n",
       "      <td>-0.097545</td>\n",
       "      <td>0.490393</td>\n",
       "      <td>-0.277785</td>\n",
       "    </tr>\n",
       "    <tr>\n",
       "      <th>6</th>\n",
       "      <td>0.191342</td>\n",
       "      <td>-0.461940</td>\n",
       "      <td>0.461940</td>\n",
       "      <td>-0.191342</td>\n",
       "      <td>-0.191342</td>\n",
       "      <td>0.461940</td>\n",
       "      <td>-0.461940</td>\n",
       "      <td>0.191342</td>\n",
       "    </tr>\n",
       "    <tr>\n",
       "      <th>7</th>\n",
       "      <td>0.097545</td>\n",
       "      <td>-0.277785</td>\n",
       "      <td>0.415735</td>\n",
       "      <td>-0.490393</td>\n",
       "      <td>0.490393</td>\n",
       "      <td>-0.415735</td>\n",
       "      <td>0.277785</td>\n",
       "      <td>-0.097545</td>\n",
       "    </tr>\n",
       "  </tbody>\n",
       "</table>\n",
       "</div>"
      ],
      "text/plain": [
       "          0         1         2         3         4         5         6  \\\n",
       "0  0.353553  0.353553  0.353553  0.353553  0.353553  0.353553  0.353553   \n",
       "1  0.490393  0.415735  0.277785  0.097545 -0.097545 -0.277785 -0.415735   \n",
       "2  0.461940  0.191342 -0.191342 -0.461940 -0.461940 -0.191342  0.191342   \n",
       "3  0.415735 -0.097545 -0.490393 -0.277785  0.277785  0.490393  0.097545   \n",
       "4  0.353553 -0.353553 -0.353553  0.353553  0.353553 -0.353553 -0.353553   \n",
       "5  0.277785 -0.490393  0.097545  0.415735 -0.415735 -0.097545  0.490393   \n",
       "6  0.191342 -0.461940  0.461940 -0.191342 -0.191342  0.461940 -0.461940   \n",
       "7  0.097545 -0.277785  0.415735 -0.490393  0.490393 -0.415735  0.277785   \n",
       "\n",
       "          7  \n",
       "0  0.353553  \n",
       "1 -0.490393  \n",
       "2  0.461940  \n",
       "3 -0.415735  \n",
       "4  0.353553  \n",
       "5 -0.277785  \n",
       "6  0.191342  \n",
       "7 -0.097545  "
      ]
     },
     "execution_count": 5,
     "metadata": {},
     "output_type": "execute_result"
    }
   ],
   "source": [
    "import numpy as np\n",
    "import pandas as pd\n",
    "\n",
    "# Define the block size (JPEG uses 8x8)\n",
    "N = 8\n",
    "\n",
    "# Initialize the DCT matrix\n",
    "D = np.zeros((N, N))\n",
    "\n",
    "# Compute the DCT matrix using the formula\n",
    "for k in range(N):\n",
    "    for n in range(N):\n",
    "        alpha_k = np.sqrt(1/N) if k == 0 else np.sqrt(2/N)\n",
    "        D[k, n] = alpha_k * np.cos((np.pi * (2*n + 1) * k) / (2 * N))\n",
    "\n",
    "# Display the computed DCT matrix\n",
    "\n",
    "pd.DataFrame(D)"
   ]
  },
  {
   "cell_type": "markdown",
   "metadata": {},
   "source": []
  },
  {
   "cell_type": "code",
   "execution_count": 9,
   "metadata": {},
   "outputs": [
    {
     "data": {
      "image/png": "[encoded data removed]",
      "text/plain": [
       "<Figure size 640x480 with 2 Axes>"
      ]
     },
     "metadata": {},
     "output_type": "display_data"
    }
   ],
   "source": [
    "import matplotlib.pyplot as plt\n",
    "\n",
    "signal = np.array(np.random.rand(N, N) * 255, dtype=int)\n",
    "plt.imshow(signal, cmap='gray')\n",
    "\n",
    "# Add legend\n",
    "plt.colorbar()\n",
    "plt.show()"
   ]
  },
  {
   "cell_type": "code",
   "execution_count": 10,
   "metadata": {},
   "outputs": [
    {
     "data": {
      "image/png": "[encoded data removed]",
      "text/plain": [
       "<Figure size 640x480 with 2 Axes>"
      ]
     },
     "metadata": {},
     "output_type": "display_data"
    }
   ],
   "source": [
    "# Compute the DCT of the signal\n",
    "dct = D @ signal @ D.T\n",
    "\n",
    "# Display the DCT of the signal\n",
    "plt.figure()\n",
    "plt.imshow(dct, cmap='gray')\n",
    "plt.colorbar()\n",
    "plt.show()"
   ]
  },
  {
   "cell_type": "code",
   "execution_count": 18,
   "metadata": {},
   "outputs": [
    {
     "data": {
      "image/png": "[encoded data removed]",
      "text/plain": [
       "<Figure size 640x480 with 2 Axes>"
      ]
     },
     "metadata": {},
     "output_type": "display_data"
    }
   ],
   "source": [
    "# Apply thresholding to the DCT coefficients\n",
    "threshold = 100\n",
    "dct_thresholded = np.where(np.abs(dct) < threshold, 0, dct)\n",
    "\n",
    "# Display the thresholded DCT coefficients\n",
    "plt.figure()\n",
    "plt.imshow(dct_thresholded, cmap='gray')\n",
    "plt.colorbar()\n",
    "plt.show()"
   ]
  },
  {
   "cell_type": "code",
   "execution_count": 19,
   "metadata": {},
   "outputs": [
    {
     "name": "stdout",
     "output_type": "stream",
     "text": [
      "Original size: 64\n",
      "Intermediate size: 64\n",
      "Thresholded size: 15\n",
      "Compression ratio: 4.27\n"
     ]
    }
   ],
   "source": [
    "# Compare the size of the original signal and the thresholded DCT coefficients\n",
    "size_original = signal.size\n",
    "size_intermediate = dct.size\n",
    "size_thresholded = np.sum(np.abs(dct_thresholded) > 0)\n",
    "compression_ratio = size_original / size_thresholded\n",
    "print(f\"Original size: {size_original}\")\n",
    "print(f\"Intermediate size: {size_intermediate}\")\n",
    "print(f\"Thresholded size: {size_thresholded}\")\n",
    "print(f\"Compression ratio: {compression_ratio:.2f}\")"
   ]
  },
  {
   "cell_type": "code",
   "execution_count": 20,
   "metadata": {},
   "outputs": [
    {
     "data": {
      "image/png": "[encoded data removed]",
      "text/plain": [
       "<Figure size 640x480 with 2 Axes>"
      ]
     },
     "metadata": {},
     "output_type": "display_data"
    }
   ],
   "source": [
    "# Reconstruct the signal from the thresholded DCT coefficients\n",
    "signal_reconstructed = D.T @ dct_thresholded @ D\n",
    "\n",
    "# Display the reconstructed signal\n",
    "plt.figure()\n",
    "plt.imshow(signal_reconstructed, cmap='gray')\n",
    "plt.colorbar()\n",
    "plt.show()"
   ]
  },
  {
   "cell_type": "code",
   "execution_count": null,
   "metadata": {},
   "outputs": [],
   "source": [
    "# Compare the original signal and the reconstructed signal\n",
    "error = np.mean(np.abs(signal - signal_reconstructed))\n",
    "print(f\"Mean absolute error: {error:.2f}\")"
   ]
  }
 ],
 "metadata": {
  "kernelspec": {
   "display_name": ".venv",
   "language": "python",
   "name": "python3"
  },
  "language_info": {
   "codemirror_mode": {
    "name": "ipython",
    "version": 3
   },
   "file_extension": ".py",
   "mimetype": "text/x-python",
   "name": "python",
   "nbconvert_exporter": "python",
   "pygments_lexer": "ipython3",
   "version": "3.13.2"
  }
 },
 "nbformat": 4,
 "nbformat_minor": 2
}
